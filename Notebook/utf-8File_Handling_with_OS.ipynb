{
  "cells": [
    {
      "metadata": {
        "trusted": true
      },
      "cell_type": "code",
      "source": "import os\n\nprint(os.getcwd())\n#os.mkdir(\"parent_dir\")\nprint(\"parent_dir exists is\",os.path.exists(\"parent_dir\"))\nprint()",
      "execution_count": 1,
      "outputs": [
        {
          "output_type": "stream",
          "text": "/home/nbuser/library\nparent_dir exists is True\n\n",
          "name": "stdout"
        }
      ]
    },
    {
      "metadata": {
        "trusted": true
      },
      "cell_type": "code",
      "source": "file_path = \"parent_dir/tmp_file_to_be_deleted.txt\"\nf = open(file_path, 'w')\nf.close()\nprint()",
      "execution_count": 2,
      "outputs": [
        {
          "output_type": "stream",
          "text": "\n",
          "name": "stdout"
        }
      ]
    },
    {
      "metadata": {
        "trusted": true
      },
      "cell_type": "code",
      "source": "new_file = \"parent_dir/my_new_file.txt\"\nf = open(new_file, 'w')\nf.close()",
      "execution_count": 3,
      "outputs": []
    },
    {
      "metadata": {
        "trusted": true
      },
      "cell_type": "code",
      "source": "print(os.listdir(\"parent_dir\"))",
      "execution_count": 4,
      "outputs": [
        {
          "output_type": "stream",
          "text": "['readme.txt', 'my_new_file.txt', 'tmp_file_to_be_deleted.txt']\n",
          "name": "stdout"
        }
      ]
    },
    {
      "metadata": {
        "trusted": true
      },
      "cell_type": "code",
      "source": "os.remove(file_path)",
      "execution_count": 5,
      "outputs": []
    },
    {
      "metadata": {
        "trusted": true
      },
      "cell_type": "code",
      "source": "print(os.listdir(\"parent_dir\"))",
      "execution_count": 6,
      "outputs": [
        {
          "output_type": "stream",
          "text": "['readme.txt', 'my_new_file.txt']\n",
          "name": "stdout"
        }
      ]
    },
    {
      "metadata": {
        "trusted": true
      },
      "cell_type": "code",
      "source": "import os\n\nfile_path = \"parent_dir/fictious_file.txt\"\nf = open(file_path, 'w')\nf.close()\nprint(os.listdir(\"parent_dir\"))\nprint()",
      "execution_count": 7,
      "outputs": [
        {
          "output_type": "stream",
          "text": "['fictious_file.txt', 'readme.txt', 'my_new_file.txt']\n\n",
          "name": "stdout"
        }
      ]
    },
    {
      "metadata": {
        "trusted": true
      },
      "cell_type": "code",
      "source": "file_path = \"parent_dir/readme.txt\"\nf = open(file_path, 'w')\nf.close()\nprint(os.listdir(\"parent_dir\"))",
      "execution_count": 8,
      "outputs": [
        {
          "output_type": "stream",
          "text": "['fictious_file.txt', 'readme.txt', 'my_new_file.txt']\n",
          "name": "stdout"
        }
      ]
    },
    {
      "metadata": {
        "trusted": true
      },
      "cell_type": "code",
      "source": "import os.path\n\nfile_path = \"parent_dir/fictious_file.txt\"\n\nif(os.path.exists(file_path)):\n    if(os.path.isfile(file_path)):\n        os.remove(file_path)\n        print(\"Removed\",file_path)\n    else:\n        print(\"Cannot remove a directory\")\nelse:\n    print(\"path does not exists\")\n",
      "execution_count": 9,
      "outputs": [
        {
          "output_type": "stream",
          "text": "Removed parent_dir/fictious_file.txt\n",
          "name": "stdout"
        }
      ]
    },
    {
      "metadata": {
        "trusted": true
      },
      "cell_type": "code",
      "source": "print(os.listdir(\"parent_dir\"))",
      "execution_count": 10,
      "outputs": [
        {
          "output_type": "stream",
          "text": "['readme.txt', 'my_new_file.txt']\n",
          "name": "stdout"
        }
      ]
    },
    {
      "metadata": {
        "trusted": true
      },
      "cell_type": "code",
      "source": "file_path = \"parent_dir\"\n\nif(os.path.exists(file_path)):\n    if(os.path.isfile(file_path)):\n        os.remove(file_path)\n        print(\"Removed \",file_path)\n    else:\n        print(\"Directory cannot be removed\")\nelse:\n    print(\"Path does not exist\")",
      "execution_count": 11,
      "outputs": [
        {
          "output_type": "stream",
          "text": "Directory cannot be removed\n",
          "name": "stdout"
        }
      ]
    },
    {
      "metadata": {
        "trusted": true
      },
      "cell_type": "code",
      "source": "file_path = \"parent_dir/fictious_file.txt\"\n\ntry:\n    os.remove(file_path)\n    print(\"Removed ; \",file_path)\nexcept FileNotFoundError as error:\n    print(\"Cannot find file :\",error)\nexcept PermissionError as error:\n    print(\"Cannot delete a directory :\",error)\nexcept Exception as error:\n    print(\"Unexpected exception : \",error)",
      "execution_count": 13,
      "outputs": [
        {
          "output_type": "stream",
          "text": "Cannot find file : [Errno 2] No such file or directory: 'parent_dir/fictious_file.txt'\n",
          "name": "stdout"
        }
      ]
    },
    {
      "metadata": {
        "trusted": true
      },
      "cell_type": "code",
      "source": "file_path = \"parent_dir\"\n\ntry:\n    os.remove(file_path)\n    print(\"Removed ; \",file_path)\nexcept FileNotFoundError as error:\n    print(\"Cannot find file :\",error)\nexcept PermissionError as error:\n    print(\"Cannot delete a directory :\",error)\nexcept Exception as error:\n    print(\"Unexpected exception : \",error)",
      "execution_count": 6,
      "outputs": [
        {
          "output_type": "stream",
          "text": "Unexpected exception :  [Errno 21] Is a directory: 'parent_dir'\n",
          "name": "stdout"
        }
      ]
    },
    {
      "metadata": {
        "trusted": true
      },
      "cell_type": "code",
      "source": "import os\nprint(os.getcwd())\nos.listdir(\"parent_dir\")",
      "execution_count": 7,
      "outputs": [
        {
          "output_type": "stream",
          "text": "/home/nbuser/library\n",
          "name": "stdout"
        },
        {
          "output_type": "execute_result",
          "execution_count": 7,
          "data": {
            "text/plain": "['readme.txt', 'my_new_file.txt']"
          },
          "metadata": {}
        }
      ]
    },
    {
      "metadata": {
        "trusted": true
      },
      "cell_type": "code",
      "source": "file_path = \"parent_dir/text_file.txt\"\nf = open(file_path,'w')\nf.close()\nprint(os.listdir(\"parent_dir\"))",
      "execution_count": 8,
      "outputs": [
        {
          "output_type": "stream",
          "text": "['text_file.txt', 'readme.txt', 'my_new_file.txt']\n",
          "name": "stdout"
        }
      ]
    },
    {
      "metadata": {
        "trusted": true
      },
      "cell_type": "code",
      "source": "file_path = \"parent_dir/text_file.txt\"\n\nfile = open(file_path, 'r')\ntry:\n    x = int(file.readline())\n    file.close()\nexcept Exception as error:\n    print(\"Unexpected exception:\",error)\nprint(\"File is closed?\",file.closed)",
      "execution_count": 15,
      "outputs": [
        {
          "output_type": "stream",
          "text": "Unexpected exception: invalid literal for int() with base 10: ''\nFile is closed? False\n",
          "name": "stdout"
        }
      ]
    },
    {
      "metadata": {
        "trusted": true
      },
      "cell_type": "code",
      "source": "file_path = \"parent_dir/text_file.txt\"\n\nwith open(file_path, 'r') as file:\n    try:\n        x = int(file.readline())\n    except Exception as error:\n        print(\"Unexpected exception:\",error)\n        \nprint(\"File is closed ?\",file.closed)",
      "execution_count": 18,
      "outputs": [
        {
          "output_type": "stream",
          "text": "Unexpected exception: invalid literal for int() with base 10: ''\nFile is closed ? True\n",
          "name": "stdout"
        }
      ]
    },
    {
      "metadata": {
        "trusted": true
      },
      "cell_type": "code",
      "source": "",
      "execution_count": null,
      "outputs": []
    }
  ],
  "metadata": {
    "kernelspec": {
      "name": "python36",
      "display_name": "Python 3.6",
      "language": "python"
    },
    "language_info": {
      "mimetype": "text/x-python",
      "nbconvert_exporter": "python",
      "name": "python",
      "pygments_lexer": "ipython3",
      "version": "3.6.3",
      "file_extension": ".py",
      "codemirror_mode": {
        "version": 3,
        "name": "ipython"
      }
    }
  },
  "nbformat": 4,
  "nbformat_minor": 1
}