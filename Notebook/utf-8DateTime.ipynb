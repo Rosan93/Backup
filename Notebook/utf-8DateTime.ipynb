{
  "cells": [
    {
      "metadata": {
        "trusted": true
      },
      "cell_type": "code",
      "source": "from datetime import time\nt = time(20,55,20,500)",
      "execution_count": 5,
      "outputs": []
    },
    {
      "metadata": {
        "trusted": true
      },
      "cell_type": "code",
      "source": "print(t)",
      "execution_count": 6,
      "outputs": [
        {
          "output_type": "stream",
          "text": "20:55:20.000500\n",
          "name": "stdout"
        }
      ]
    },
    {
      "metadata": {
        "trusted": true
      },
      "cell_type": "code",
      "source": "n = time(minute = 45, hour = 9, microsecond = 900000, second = 20)",
      "execution_count": 7,
      "outputs": []
    },
    {
      "metadata": {
        "trusted": true
      },
      "cell_type": "code",
      "source": "print(n)",
      "execution_count": 8,
      "outputs": [
        {
          "output_type": "stream",
          "text": "09:45:20.900000\n",
          "name": "stdout"
        }
      ]
    },
    {
      "metadata": {
        "trusted": true
      },
      "cell_type": "code",
      "source": "z = time(hour = 1, minute = 10)\nprint(z)",
      "execution_count": 9,
      "outputs": [
        {
          "output_type": "stream",
          "text": "01:10:00\n",
          "name": "stdout"
        }
      ]
    },
    {
      "metadata": {
        "trusted": true
      },
      "cell_type": "code",
      "source": "x = time(hour = 23)\nprint(x)",
      "execution_count": 13,
      "outputs": [
        {
          "output_type": "stream",
          "text": "23:00:00\n",
          "name": "stdout"
        }
      ]
    },
    {
      "metadata": {
        "trusted": true
      },
      "cell_type": "code",
      "source": "t = time(9,10,43,100)\n\nh = t.hour\nm = t.minute\ns = t.second\nms =t.microsecond\n\nprint(h,\"hour \",m,\" minutes \",s,\".\",ms,\" seconds\")",
      "execution_count": 14,
      "outputs": [
        {
          "output_type": "stream",
          "text": "9 hour  10  minutes  43 . 100  seconds\n",
          "name": "stdout"
        }
      ]
    },
    {
      "metadata": {
        "trusted": true
      },
      "cell_type": "code",
      "source": "from datetime import time\nt = time(9,10,55,330)\n\nprint(\"Old time : \",t)\n\nt = t.replace(12,12)\n\nprint(\"New time : \",t)",
      "execution_count": 15,
      "outputs": [
        {
          "output_type": "stream",
          "text": "Old time :  09:10:55.000330\nNew time :  12:12:55.000330\n",
          "name": "stdout"
        }
      ]
    },
    {
      "metadata": {
        "trusted": true
      },
      "cell_type": "code",
      "source": "from datetime import date\n\ndate1 = date(2014,5,7)\nprint(\"Date1 is :\",date1)",
      "execution_count": 16,
      "outputs": [
        {
          "output_type": "stream",
          "text": "Date1 is : 2014-05-07\n",
          "name": "stdout"
        }
      ]
    },
    {
      "metadata": {
        "trusted": true
      },
      "cell_type": "code",
      "source": "date2 = date(day = 23, month = 3, year = 2018)\nprint(date2)",
      "execution_count": 17,
      "outputs": [
        {
          "output_type": "stream",
          "text": "2018-03-23\n",
          "name": "stdout"
        }
      ]
    },
    {
      "metadata": {
        "trusted": true
      },
      "cell_type": "code",
      "source": "specialDate = date(2017,12,13)\n\ny = specialDate.year\nm = specialDate.month\nd = specialDate.day\n\nprint(\"The year is \",y,m,\" months and\",d, \"day\")",
      "execution_count": 20,
      "outputs": [
        {
          "output_type": "stream",
          "text": "The year is  2017 12  months and 13 day\n",
          "name": "stdout"
        }
      ]
    },
    {
      "metadata": {
        "trusted": true
      },
      "cell_type": "code",
      "source": "SomeDate = date(2018,3,4)\nprint(\"Old date\",SomeDate)\n\nSomeDate = SomeDate.replace(2019,5)\nprint(\"New Date \",SomeDate)",
      "execution_count": 22,
      "outputs": [
        {
          "output_type": "stream",
          "text": "Old date 2018-03-04\nNew Date  2019-05-04\n",
          "name": "stdout"
        }
      ]
    },
    {
      "metadata": {
        "trusted": true
      },
      "cell_type": "code",
      "source": "d =date.today()",
      "execution_count": 23,
      "outputs": []
    },
    {
      "metadata": {
        "trusted": true
      },
      "cell_type": "code",
      "source": "print(d)",
      "execution_count": 26,
      "outputs": [
        {
          "output_type": "stream",
          "text": "2018-08-31\n",
          "name": "stdout"
        }
      ]
    },
    {
      "metadata": {
        "trusted": true
      },
      "cell_type": "code",
      "source": "",
      "execution_count": null,
      "outputs": []
    },
    {
      "metadata": {
        "trusted": true
      },
      "cell_type": "code",
      "source": "from datetime import datetime\n\ndt = datetime(2022,7,1,16,30)\nprint(\"Method 1\",dt)\n\ndt = datetime(day = 29, month = 4, year = 1997, hour = 21, minute =3, second = 55)\nprint(\"Method 2\", dt)",
      "execution_count": 27,
      "outputs": [
        {
          "output_type": "stream",
          "text": "Method 1 2022-07-01 16:30:00\nMethod 2 1997-04-29 21:03:55\n",
          "name": "stdout"
        }
      ]
    },
    {
      "metadata": {
        "trusted": true
      },
      "cell_type": "code",
      "source": "print(\"Year is \",dt.year)",
      "execution_count": 28,
      "outputs": [
        {
          "output_type": "stream",
          "text": "Year is  1997\n",
          "name": "stdout"
        }
      ]
    },
    {
      "metadata": {
        "trusted": true
      },
      "cell_type": "code",
      "source": "print(\"Hour is \",dt.hour)",
      "execution_count": 29,
      "outputs": [
        {
          "output_type": "stream",
          "text": "Hour is  21\n",
          "name": "stdout"
        }
      ]
    },
    {
      "metadata": {
        "trusted": true
      },
      "cell_type": "code",
      "source": "dd = datetime.today()",
      "execution_count": 30,
      "outputs": []
    },
    {
      "metadata": {
        "trusted": true
      },
      "cell_type": "code",
      "source": "print(dd)",
      "execution_count": 31,
      "outputs": [
        {
          "output_type": "stream",
          "text": "2018-08-31 12:07:54.074767\n",
          "name": "stdout"
        }
      ]
    },
    {
      "metadata": {
        "trusted": true
      },
      "cell_type": "code",
      "source": "print(dd.time())",
      "execution_count": 32,
      "outputs": [
        {
          "output_type": "stream",
          "text": "12:07:54.074767\n",
          "name": "stdout"
        }
      ]
    },
    {
      "metadata": {
        "trusted": true
      },
      "cell_type": "code",
      "source": "print(dd.date())",
      "execution_count": 33,
      "outputs": [
        {
          "output_type": "stream",
          "text": "2018-08-31\n",
          "name": "stdout"
        }
      ]
    },
    {
      "metadata": {
        "trusted": true
      },
      "cell_type": "code",
      "source": "from datetime import datetime, date ,time\n\nt = time(2,2,2,200)\nd =date(2017,3,3)\n\ndt = datetime.combine(date = d, time = t)\nprint(dt)",
      "execution_count": 34,
      "outputs": [
        {
          "output_type": "stream",
          "text": "2017-03-03 02:02:02.000200\n",
          "name": "stdout"
        }
      ]
    },
    {
      "metadata": {
        "trusted": true
      },
      "cell_type": "code",
      "source": "my = datetime.today()",
      "execution_count": 35,
      "outputs": []
    },
    {
      "metadata": {
        "trusted": true
      },
      "cell_type": "code",
      "source": "dr = my.hour\nprint(dr)",
      "execution_count": 38,
      "outputs": [
        {
          "output_type": "stream",
          "text": "12\n",
          "name": "stdout"
        }
      ]
    },
    {
      "metadata": {
        "trusted": true
      },
      "cell_type": "code",
      "source": "from datetime import date\nt = time(hour = 0, minute = 15)\n\nformatted_date = t.strftime(\"%I:%M %p\")\nprint(\"First Format : \",formatted_date)\n\nformatted_date = t.strftime(\"%H:%M:%S\")\nprint(\"Second Format \", formatted_date)",
      "execution_count": 41,
      "outputs": [
        {
          "output_type": "stream",
          "text": "First Format :  12:15 AM\nSecond Format  00:15:00\n",
          "name": "stdout"
        }
      ]
    },
    {
      "metadata": {
        "trusted": true
      },
      "cell_type": "code",
      "source": "d = date(1999,11,3)\n\nformatted_date = d.strftime(\"%B, %d, %Y\")\nprint(\"First Format : \",formatted_date)\n\nformatted_date = d.strftime(\"%b %d %y\")\nprint(\"Second Format:\", formatted_date)",
      "execution_count": 42,
      "outputs": [
        {
          "output_type": "stream",
          "text": "First Format :  November, 03, 1999\nSecond Format: Nov 03 99\n",
          "name": "stdout"
        }
      ]
    },
    {
      "metadata": {
        "trusted": true
      },
      "cell_type": "code",
      "source": "from datetime import datetime\n\ndt = datetime(1999,11,3,10,15)\nformatted_string = dt.strftime(\"%B, %d, %Y @ %I:%M %p\")\nprint(\"First Format : \",formatted_string)\n\nformatted_string = dt.strftime(\"%b, %d %y @ %H:%M:%S\")\nprint(\"Second format :\",formatted_string)",
      "execution_count": 43,
      "outputs": [
        {
          "output_type": "stream",
          "text": "First Format :  November, 03, 1999 @ 10:15 AM\nSecond format : Nov, 03 99 @ 10:15:00\n",
          "name": "stdout"
        }
      ]
    },
    {
      "metadata": {
        "trusted": true
      },
      "cell_type": "code",
      "source": "from datetime import timedelta\n\ndelta1 = timedelta(days = 2, seconds = 0, minutes = 15, hours = 1, weeks = 4)\nprint(delta1,\"is stored in delta1\")",
      "execution_count": 46,
      "outputs": [
        {
          "output_type": "stream",
          "text": "30 days, 1:15:00 is stored in delta1\n",
          "name": "stdout"
        }
      ]
    },
    {
      "metadata": {
        "trusted": true
      },
      "cell_type": "code",
      "source": "d = delta1.days\ns = delta1.seconds\n\nprint(\"Days =\",d,\"| Seconds = \",s)",
      "execution_count": 48,
      "outputs": [
        {
          "output_type": "stream",
          "text": "Days = 30 | Seconds =  4500\n",
          "name": "stdout"
        }
      ]
    },
    {
      "metadata": {
        "trusted": true
      },
      "cell_type": "code",
      "source": "all_seconds = delta1.total_seconds()",
      "execution_count": 49,
      "outputs": []
    },
    {
      "metadata": {
        "trusted": true
      },
      "cell_type": "code",
      "source": "print(\"Total seconds\",all_seconds)",
      "execution_count": 51,
      "outputs": [
        {
          "output_type": "stream",
          "text": "Total seconds 2596500.0\n",
          "name": "stdout"
        }
      ]
    },
    {
      "metadata": {
        "trusted": true
      },
      "cell_type": "code",
      "source": "from datetime import datetime, timedelta\n\ndate1 = datetime(2015,1,19)\ndate2 = datetime.today()\n\ndelta2 = date2 - date1\nprint(delta2,\"is stored in delta2\")\nprint(\"Total numbers of seconds = \",delta2.total_seconds())",
      "execution_count": 55,
      "outputs": [
        {
          "output_type": "stream",
          "text": "1320 days, 13:31:01.480673 is stored in delta2\nTotal numbers of seconds =  114096661.480673\n",
          "name": "stdout"
        }
      ]
    },
    {
      "metadata": {
        "trusted": true
      },
      "cell_type": "code",
      "source": "from datetime import datetime, timedelta\n\none_hundred_days = timedelta(days = 100)\ncurrent_date = datetime.today()\n\nnew_date = current_date + one_hundred_days\n\nprint(\"100 days after \",current_date,\"is\",new_date)\n\nprint(one_hundred_days.total_seconds())",
      "execution_count": 63,
      "outputs": [
        {
          "output_type": "stream",
          "text": "100 days after  2018-08-31 13:39:52.121967 is 2018-12-09 13:39:52.121967\n8640000.0\n",
          "name": "stdout"
        }
      ]
    },
    {
      "metadata": {
        "trusted": true
      },
      "cell_type": "code",
      "source": "one_hundred_days = timedelta(days = 100)\ntwo_hundred_days = one_hundred_days * 2\nthree_hundred_days = one_hundred_days * 3\n\ncurrent_date = datetime.today()\n\nnew_date1 = current_date + two_hundred_days\nnew_date2 = current_date + three_hundred_days\n\nprint(\"After 200 days:\", new_date1.strftime(\"%b/%d/%Y\"))\nprint(\"After 300 days:\", new_date2.strftime(\"%b/%d/%Y\"))\n",
      "execution_count": 65,
      "outputs": [
        {
          "output_type": "stream",
          "text": "After 200 days: Mar/19/2019\nAfter 300 days: Jun/27/2019\n",
          "name": "stdout"
        }
      ]
    },
    {
      "metadata": {
        "trusted": true
      },
      "cell_type": "code",
      "source": "from datetime import date\n\nbirthday1 = date(year = 1993, month = 3, day =5)\nbirthday2 = date(2003,3,20)\n\nif(birthday1 > birthday2):\n    print(\"Person 2 is older\")\nelif(birthday1 < birthday2):\n    print(\"Person1 is older\")\nelse:\n    print(\"Both are of same age.\")",
      "execution_count": 66,
      "outputs": [
        {
          "output_type": "stream",
          "text": "Person1 is older\n",
          "name": "stdout"
        }
      ]
    },
    {
      "metadata": {
        "trusted": true
      },
      "cell_type": "code",
      "source": "birthday1 == birthday2",
      "execution_count": 67,
      "outputs": [
        {
          "output_type": "execute_result",
          "execution_count": 67,
          "data": {
            "text/plain": "False"
          },
          "metadata": {}
        }
      ]
    },
    {
      "metadata": {
        "trusted": true
      },
      "cell_type": "code",
      "source": "from datetime import datetime, timedelta\n\nnow = datetime(2019,10,23)\n\nsolstice = datetime(year = 1, month = 12, day =23)\nsolstice = solstice.replace(year = (now.year))\n\ncount = solstice - now\n\nprint(\"count is type\",type(count))\nprint(\"there are only\",count.days,\"days till December solstice\")",
      "execution_count": 68,
      "outputs": [
        {
          "output_type": "stream",
          "text": "count is type <class 'datetime.timedelta'>\nthere are only 61 days till December solstice\n",
          "name": "stdout"
        }
      ]
    },
    {
      "metadata": {
        "trusted": true
      },
      "cell_type": "code",
      "source": "",
      "execution_count": null,
      "outputs": []
    }
  ],
  "metadata": {
    "kernelspec": {
      "name": "python36",
      "display_name": "Python 3.6",
      "language": "python"
    },
    "language_info": {
      "mimetype": "text/x-python",
      "nbconvert_exporter": "python",
      "name": "python",
      "pygments_lexer": "ipython3",
      "version": "3.6.3",
      "file_extension": ".py",
      "codemirror_mode": {
        "version": 3,
        "name": "ipython"
      }
    }
  },
  "nbformat": 4,
  "nbformat_minor": 1
}