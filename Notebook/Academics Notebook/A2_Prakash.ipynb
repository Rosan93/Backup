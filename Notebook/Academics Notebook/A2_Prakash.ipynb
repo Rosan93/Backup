{
 "cells": [
  {
   "cell_type": "code",
   "execution_count": 5,
   "metadata": {},
   "outputs": [
    {
     "name": "stdout",
     "output_type": "stream",
     "text": [
      "Yes:2+5\n"
     ]
    }
   ],
   "source": [
    "a = [2, 5, 9, 0, 8] \n",
    "k = 7\n",
    "for i in a[0:]:\n",
    "    for j in a[a.index(i)+1:]:\n",
    "        if i+j == k:\n",
    "            print(\"Yes:{}+{}\".format(i,j))\n"
   ]
  },
  {
   "cell_type": "code",
   "execution_count": 4,
   "metadata": {},
   "outputs": [
    {
     "name": "stdout",
     "output_type": "stream",
     "text": [
      "Yes:1+6\n",
      "Yes:2+5\n",
      "Yes:3+4\n"
     ]
    }
   ],
   "source": [
    "a = [2, 5, 9, 0, 8,1,6,3,4] \n",
    "\n",
    "a.sort()\n",
    "k = 7\n",
    "for i in a[0:]:\n",
    "    for j in a[a.index(i)+1:]:\n",
    "        if i+j == k:\n",
    "            print(\"Yes:{}+{}\".format(i,j))"
   ]
  },
  {
   "cell_type": "code",
   "execution_count": 3,
   "metadata": {},
   "outputs": [
    {
     "name": "stdout",
     "output_type": "stream",
     "text": [
      "The unsorted data: [20, 15, 14, 25, 9]\n",
      "[20] [15]\n",
      "[25] [9]\n",
      "[14] [9, 25]\n",
      "[15, 20] [9, 14, 25]\n",
      "The sorted data: [9, 14, 15, 20, 25]\n"
     ]
    }
   ],
   "source": [
    "def merge(mdata):\n",
    "    if len(mdata)<=1:\n",
    "        return mdata\n",
    "    \n",
    "    middle = len(mdata)//2\n",
    "    left = merge(mdata[:middle])\n",
    "    right = merge(mdata[middle:])\n",
    "    \n",
    "    print(left,right)\n",
    "    \n",
    "    mresult1 = merge_sort(left,right)\n",
    "    \n",
    "    return mresult1\n",
    "\n",
    "\n",
    "def merge_sort(a,b):\n",
    "    c = []\n",
    "    i=0\n",
    "    j=0\n",
    "    \n",
    "    while i<len(a) and j<len(b):\n",
    "        if a[i]<b[j]:\n",
    "            c.append(a[i])\n",
    "            i+=1\n",
    "            \n",
    "        elif a[i]>b[j]:\n",
    "            c.append(b[j])\n",
    "            j+=1\n",
    "        \n",
    "        else:\n",
    "            c.append(a[i])\n",
    "            c.append(b[j])\n",
    "            \n",
    "            i+=1\n",
    "            j+=1\n",
    "    \n",
    "    if i<len(a):\n",
    "        c.extend(a[i:])\n",
    "    \n",
    "    if j<len(b):\n",
    "        c.extend(b[j:])\n",
    "        \n",
    "    return c\n",
    "        \n",
    "\n",
    "mdata = [20,15,14,25,9]\n",
    "print(\"The unsorted data: {}\".format(mdata))\n",
    "mresult = merge(mdata)\n",
    "print(\"The sorted data: {}\".format(mresult))"
   ]
  }
 ],
 "metadata": {
  "kernelspec": {
   "display_name": "Python 3",
   "language": "python",
   "name": "python3"
  },
  "language_info": {
   "codemirror_mode": {
    "name": "ipython",
    "version": 3
   },
   "file_extension": ".py",
   "mimetype": "text/x-python",
   "name": "python",
   "nbconvert_exporter": "python",
   "pygments_lexer": "ipython3",
   "version": "3.6.4"
  }
 },
 "nbformat": 4,
 "nbformat_minor": 2
}
